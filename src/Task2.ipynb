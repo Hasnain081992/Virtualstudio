{
 "cells": [
  {
   "cell_type": "code",
   "execution_count": 1,
   "id": "356fce36-a735-43d3-99de-f0d0608431bd",
   "metadata": {},
   "outputs": [],
   "source": [
    "import pandas as pd  # import pandas libraries"
   ]
  },
  {
   "cell_type": "code",
   "execution_count": 3,
   "id": "dd666dd4-eee1-4e17-909d-90fe3a4487e1",
   "metadata": {},
   "outputs": [],
   "source": [
    "import numpy as np    # import numpy libraries"
   ]
  },
  {
   "cell_type": "code",
   "execution_count": 4,
   "id": "3c09ce0c-7303-4504-8d2c-82037ba37ebf",
   "metadata": {},
   "outputs": [],
   "source": [
    "df = pd.read_csv(r\"C:\\Users\\44754\\Documents\\tempfile.csv\")"
   ]
  },
  {
   "cell_type": "code",
   "execution_count": 5,
   "id": "46267e76-7bb5-43ec-bcb5-c466dad37e02",
   "metadata": {},
   "outputs": [
    {
     "data": {
      "text/html": [
       "<div>\n",
       "<style scoped>\n",
       "    .dataframe tbody tr th:only-of-type {\n",
       "        vertical-align: middle;\n",
       "    }\n",
       "\n",
       "    .dataframe tbody tr th {\n",
       "        vertical-align: top;\n",
       "    }\n",
       "\n",
       "    .dataframe thead th {\n",
       "        text-align: right;\n",
       "    }\n",
       "</style>\n",
       "<table border=\"1\" class=\"dataframe\">\n",
       "  <thead>\n",
       "    <tr style=\"text-align: right;\">\n",
       "      <th></th>\n",
       "      <th>EmployeeID</th>\n",
       "      <th>Firstname</th>\n",
       "      <th>Lastname</th>\n",
       "      <th>Salary</th>\n",
       "      <th>Jobtitle</th>\n",
       "      <th>SEX</th>\n",
       "      <th>Age</th>\n",
       "    </tr>\n",
       "  </thead>\n",
       "  <tbody>\n",
       "    <tr>\n",
       "      <th>0</th>\n",
       "      <td>1</td>\n",
       "      <td>Hasnain</td>\n",
       "      <td>Lokhandwala</td>\n",
       "      <td>25000</td>\n",
       "      <td>Manager</td>\n",
       "      <td>Male</td>\n",
       "      <td>31</td>\n",
       "    </tr>\n",
       "    <tr>\n",
       "      <th>1</th>\n",
       "      <td>2</td>\n",
       "      <td>Ibtu</td>\n",
       "      <td>Lokhandwala</td>\n",
       "      <td>29000</td>\n",
       "      <td>Manager</td>\n",
       "      <td>Female</td>\n",
       "      <td>27</td>\n",
       "    </tr>\n",
       "    <tr>\n",
       "      <th>2</th>\n",
       "      <td>3</td>\n",
       "      <td>Zulfikar</td>\n",
       "      <td>Khan</td>\n",
       "      <td>32000</td>\n",
       "      <td>Employee</td>\n",
       "      <td>Male</td>\n",
       "      <td>30</td>\n",
       "    </tr>\n",
       "    <tr>\n",
       "      <th>3</th>\n",
       "      <td>4</td>\n",
       "      <td>Fatema</td>\n",
       "      <td>shekh</td>\n",
       "      <td>29000</td>\n",
       "      <td>Employee</td>\n",
       "      <td>Female</td>\n",
       "      <td>27</td>\n",
       "    </tr>\n",
       "    <tr>\n",
       "      <th>4</th>\n",
       "      <td>5</td>\n",
       "      <td>zenab</td>\n",
       "      <td>lokhandwala</td>\n",
       "      <td>32000</td>\n",
       "      <td>CEO</td>\n",
       "      <td>Male</td>\n",
       "      <td>41</td>\n",
       "    </tr>\n",
       "  </tbody>\n",
       "</table>\n",
       "</div>"
      ],
      "text/plain": [
       "   EmployeeID Firstname     Lastname  Salary  Jobtitle     SEX  Age\n",
       "0           1   Hasnain  Lokhandwala   25000   Manager    Male   31\n",
       "1           2      Ibtu  Lokhandwala   29000   Manager  Female   27\n",
       "2           3  Zulfikar         Khan   32000  Employee    Male   30\n",
       "3           4    Fatema        shekh   29000  Employee  Female   27\n",
       "4           5     zenab  lokhandwala   32000       CEO    Male   41"
      ]
     },
     "execution_count": 5,
     "metadata": {},
     "output_type": "execute_result"
    }
   ],
   "source": [
    "df.head(10)  # to see top 5 rows"
   ]
  },
  {
   "cell_type": "code",
   "execution_count": 385,
   "id": "df141a58-0f47-4781-bf03-6b4276e7573b",
   "metadata": {},
   "outputs": [
    {
     "data": {
      "text/html": [
       "<div>\n",
       "<style scoped>\n",
       "    .dataframe tbody tr th:only-of-type {\n",
       "        vertical-align: middle;\n",
       "    }\n",
       "\n",
       "    .dataframe tbody tr th {\n",
       "        vertical-align: top;\n",
       "    }\n",
       "\n",
       "    .dataframe thead th {\n",
       "        text-align: right;\n",
       "    }\n",
       "</style>\n",
       "<table border=\"1\" class=\"dataframe\">\n",
       "  <thead>\n",
       "    <tr style=\"text-align: right;\">\n",
       "      <th></th>\n",
       "      <th>EmployeeID</th>\n",
       "      <th>Firstname</th>\n",
       "      <th>Lastname</th>\n",
       "      <th>Salary</th>\n",
       "      <th>Jobtitle</th>\n",
       "      <th>SEX</th>\n",
       "      <th>Age</th>\n",
       "    </tr>\n",
       "  </thead>\n",
       "  <tbody>\n",
       "    <tr>\n",
       "      <th>0</th>\n",
       "      <td>1</td>\n",
       "      <td>Hasnain</td>\n",
       "      <td>Lokhandwala</td>\n",
       "      <td>25000</td>\n",
       "      <td>Manager</td>\n",
       "      <td>Male</td>\n",
       "      <td>31</td>\n",
       "    </tr>\n",
       "    <tr>\n",
       "      <th>1</th>\n",
       "      <td>2</td>\n",
       "      <td>Ibtu</td>\n",
       "      <td>Lokhandwala</td>\n",
       "      <td>29000</td>\n",
       "      <td>Manager</td>\n",
       "      <td>Female</td>\n",
       "      <td>27</td>\n",
       "    </tr>\n",
       "    <tr>\n",
       "      <th>2</th>\n",
       "      <td>3</td>\n",
       "      <td>Zulfikar</td>\n",
       "      <td>Khan</td>\n",
       "      <td>32000</td>\n",
       "      <td>Employee</td>\n",
       "      <td>Male</td>\n",
       "      <td>30</td>\n",
       "    </tr>\n",
       "    <tr>\n",
       "      <th>3</th>\n",
       "      <td>4</td>\n",
       "      <td>Fatema</td>\n",
       "      <td>shekh</td>\n",
       "      <td>29000</td>\n",
       "      <td>Employee</td>\n",
       "      <td>Female</td>\n",
       "      <td>27</td>\n",
       "    </tr>\n",
       "    <tr>\n",
       "      <th>4</th>\n",
       "      <td>5</td>\n",
       "      <td>zenab</td>\n",
       "      <td>lokhandwala</td>\n",
       "      <td>32000</td>\n",
       "      <td>CEO</td>\n",
       "      <td>Male</td>\n",
       "      <td>41</td>\n",
       "    </tr>\n",
       "  </tbody>\n",
       "</table>\n",
       "</div>"
      ],
      "text/plain": [
       "   EmployeeID Firstname     Lastname  Salary  Jobtitle     SEX  Age\n",
       "0           1   Hasnain  Lokhandwala   25000   Manager    Male   31\n",
       "1           2      Ibtu  Lokhandwala   29000   Manager  Female   27\n",
       "2           3  Zulfikar         Khan   32000  Employee    Male   30\n",
       "3           4    Fatema        shekh   29000  Employee  Female   27\n",
       "4           5     zenab  lokhandwala   32000       CEO    Male   41"
      ]
     },
     "execution_count": 385,
     "metadata": {},
     "output_type": "execute_result"
    }
   ],
   "source": [
    "df.tail()"
   ]
  },
  {
   "cell_type": "code",
   "execution_count": 143,
   "id": "108d9234-a366-4226-956b-b11b0cbf8a8a",
   "metadata": {},
   "outputs": [],
   "source": [
    "# accessing a single column\n"
   ]
  },
  {
   "cell_type": "code",
   "execution_count": 387,
   "id": "786f3797-9298-4b63-a8ce-c69373bca72e",
   "metadata": {},
   "outputs": [
    {
     "data": {
      "text/html": [
       "<div>\n",
       "<style scoped>\n",
       "    .dataframe tbody tr th:only-of-type {\n",
       "        vertical-align: middle;\n",
       "    }\n",
       "\n",
       "    .dataframe tbody tr th {\n",
       "        vertical-align: top;\n",
       "    }\n",
       "\n",
       "    .dataframe thead th {\n",
       "        text-align: right;\n",
       "    }\n",
       "</style>\n",
       "<table border=\"1\" class=\"dataframe\">\n",
       "  <thead>\n",
       "    <tr style=\"text-align: right;\">\n",
       "      <th></th>\n",
       "      <th>EmployeeID</th>\n",
       "      <th>Firstname</th>\n",
       "      <th>Lastname</th>\n",
       "      <th>Salary</th>\n",
       "      <th>Jobtitle</th>\n",
       "      <th>SEX</th>\n",
       "      <th>Age</th>\n",
       "    </tr>\n",
       "  </thead>\n",
       "  <tbody>\n",
       "    <tr>\n",
       "      <th>0</th>\n",
       "      <td>1</td>\n",
       "      <td>Hasnain</td>\n",
       "      <td>Lokhandwala</td>\n",
       "      <td>25000</td>\n",
       "      <td>Manager</td>\n",
       "      <td>Male</td>\n",
       "      <td>31</td>\n",
       "    </tr>\n",
       "    <tr>\n",
       "      <th>1</th>\n",
       "      <td>2</td>\n",
       "      <td>Ibtu</td>\n",
       "      <td>Lokhandwala</td>\n",
       "      <td>29000</td>\n",
       "      <td>Manager</td>\n",
       "      <td>Female</td>\n",
       "      <td>27</td>\n",
       "    </tr>\n",
       "  </tbody>\n",
       "</table>\n",
       "</div>"
      ],
      "text/plain": [
       "   EmployeeID Firstname     Lastname  Salary Jobtitle     SEX  Age\n",
       "0           1   Hasnain  Lokhandwala   25000  Manager    Male   31\n",
       "1           2      Ibtu  Lokhandwala   29000  Manager  Female   27"
      ]
     },
     "execution_count": 387,
     "metadata": {},
     "output_type": "execute_result"
    }
   ],
   "source": [
    "df.head(2)"
   ]
  },
  {
   "cell_type": "code",
   "execution_count": 389,
   "id": "956e9bcc-b545-461f-a184-d31ddcb17901",
   "metadata": {},
   "outputs": [],
   "source": [
    "# add newrow data\n",
    "newrow = {'EmployeeID' :6,'Firstname':'Ahmedi','Lastname':'Hajari', 'Salary': 31000, 'Jobtitle':'MBA','SEX': 'Male','Age':33}\n"
   ]
  },
  {
   "cell_type": "code",
   "execution_count": 391,
   "id": "e5ca3de6-e45a-4e50-a3cc-aeb006765664",
   "metadata": {},
   "outputs": [],
   "source": [
    "newrowdf = pd.DataFrame([newrow])"
   ]
  },
  {
   "cell_type": "code",
   "execution_count": 393,
   "id": "c91c360e-1665-431a-ba38-376e82067eaa",
   "metadata": {},
   "outputs": [],
   "source": [
    "# add newrow data into dataframed\n",
    "df = pd.concat([df,newrowdf],ignore_index = True)"
   ]
  },
  {
   "cell_type": "code",
   "execution_count": 395,
   "id": "0641baa2-79ea-41d8-87a9-b1225c1b8c05",
   "metadata": {},
   "outputs": [
    {
     "name": "stdout",
     "output_type": "stream",
     "text": [
      "   EmployeeID Firstname     Lastname  Salary  Jobtitle     SEX  Age\n",
      "0           1   Hasnain  Lokhandwala   25000   Manager    Male   31\n",
      "1           2      Ibtu  Lokhandwala   29000   Manager  Female   27\n",
      "2           3  Zulfikar         Khan   32000  Employee    Male   30\n",
      "3           4    Fatema        shekh   29000  Employee  Female   27\n",
      "4           5     zenab  lokhandwala   32000       CEO    Male   41\n",
      "5           6    Ahmedi       Hajari   31000       MBA    Male   33\n"
     ]
    }
   ],
   "source": [
    "print(df)"
   ]
  },
  {
   "cell_type": "code",
   "execution_count": 397,
   "id": "c9884e47-d547-41a6-ad8c-752f7c1c2d12",
   "metadata": {},
   "outputs": [
    {
     "data": {
      "text/html": [
       "<div>\n",
       "<style scoped>\n",
       "    .dataframe tbody tr th:only-of-type {\n",
       "        vertical-align: middle;\n",
       "    }\n",
       "\n",
       "    .dataframe tbody tr th {\n",
       "        vertical-align: top;\n",
       "    }\n",
       "\n",
       "    .dataframe thead th {\n",
       "        text-align: right;\n",
       "    }\n",
       "</style>\n",
       "<table border=\"1\" class=\"dataframe\">\n",
       "  <thead>\n",
       "    <tr style=\"text-align: right;\">\n",
       "      <th></th>\n",
       "      <th>EmployeeID</th>\n",
       "      <th>Firstname</th>\n",
       "      <th>Lastname</th>\n",
       "      <th>Salary</th>\n",
       "      <th>Jobtitle</th>\n",
       "      <th>SEX</th>\n",
       "      <th>Age</th>\n",
       "    </tr>\n",
       "  </thead>\n",
       "  <tbody>\n",
       "    <tr>\n",
       "      <th>0</th>\n",
       "      <td>1</td>\n",
       "      <td>Hasnain</td>\n",
       "      <td>Lokhandwala</td>\n",
       "      <td>25000</td>\n",
       "      <td>Manager</td>\n",
       "      <td>Male</td>\n",
       "      <td>31</td>\n",
       "    </tr>\n",
       "    <tr>\n",
       "      <th>1</th>\n",
       "      <td>2</td>\n",
       "      <td>Ibtu</td>\n",
       "      <td>Lokhandwala</td>\n",
       "      <td>29000</td>\n",
       "      <td>Manager</td>\n",
       "      <td>Female</td>\n",
       "      <td>27</td>\n",
       "    </tr>\n",
       "    <tr>\n",
       "      <th>2</th>\n",
       "      <td>3</td>\n",
       "      <td>Zulfikar</td>\n",
       "      <td>Khan</td>\n",
       "      <td>32000</td>\n",
       "      <td>Employee</td>\n",
       "      <td>Male</td>\n",
       "      <td>30</td>\n",
       "    </tr>\n",
       "    <tr>\n",
       "      <th>3</th>\n",
       "      <td>4</td>\n",
       "      <td>Fatema</td>\n",
       "      <td>shekh</td>\n",
       "      <td>29000</td>\n",
       "      <td>Employee</td>\n",
       "      <td>Female</td>\n",
       "      <td>27</td>\n",
       "    </tr>\n",
       "    <tr>\n",
       "      <th>4</th>\n",
       "      <td>5</td>\n",
       "      <td>zenab</td>\n",
       "      <td>lokhandwala</td>\n",
       "      <td>32000</td>\n",
       "      <td>CEO</td>\n",
       "      <td>Male</td>\n",
       "      <td>41</td>\n",
       "    </tr>\n",
       "    <tr>\n",
       "      <th>5</th>\n",
       "      <td>6</td>\n",
       "      <td>Ahmedi</td>\n",
       "      <td>Hajari</td>\n",
       "      <td>31000</td>\n",
       "      <td>MBA</td>\n",
       "      <td>Male</td>\n",
       "      <td>33</td>\n",
       "    </tr>\n",
       "  </tbody>\n",
       "</table>\n",
       "</div>"
      ],
      "text/plain": [
       "   EmployeeID Firstname     Lastname  Salary  Jobtitle     SEX  Age\n",
       "0           1   Hasnain  Lokhandwala   25000   Manager    Male   31\n",
       "1           2      Ibtu  Lokhandwala   29000   Manager  Female   27\n",
       "2           3  Zulfikar         Khan   32000  Employee    Male   30\n",
       "3           4    Fatema        shekh   29000  Employee  Female   27\n",
       "4           5     zenab  lokhandwala   32000       CEO    Male   41\n",
       "5           6    Ahmedi       Hajari   31000       MBA    Male   33"
      ]
     },
     "execution_count": 397,
     "metadata": {},
     "output_type": "execute_result"
    }
   ],
   "source": [
    "df.head(10)"
   ]
  },
  {
   "cell_type": "code",
   "execution_count": 400,
   "id": "f6b0550c-193d-4f59-9d26-d215e337f7f5",
   "metadata": {},
   "outputs": [
    {
     "data": {
      "text/html": [
       "<div>\n",
       "<style scoped>\n",
       "    .dataframe tbody tr th:only-of-type {\n",
       "        vertical-align: middle;\n",
       "    }\n",
       "\n",
       "    .dataframe tbody tr th {\n",
       "        vertical-align: top;\n",
       "    }\n",
       "\n",
       "    .dataframe thead th {\n",
       "        text-align: right;\n",
       "    }\n",
       "</style>\n",
       "<table border=\"1\" class=\"dataframe\">\n",
       "  <thead>\n",
       "    <tr style=\"text-align: right;\">\n",
       "      <th></th>\n",
       "      <th>EmployeeID</th>\n",
       "      <th>Salary</th>\n",
       "      <th>Age</th>\n",
       "    </tr>\n",
       "  </thead>\n",
       "  <tbody>\n",
       "    <tr>\n",
       "      <th>count</th>\n",
       "      <td>6.000000</td>\n",
       "      <td>6.000000</td>\n",
       "      <td>6.000000</td>\n",
       "    </tr>\n",
       "    <tr>\n",
       "      <th>mean</th>\n",
       "      <td>3.500000</td>\n",
       "      <td>29666.666667</td>\n",
       "      <td>31.500000</td>\n",
       "    </tr>\n",
       "    <tr>\n",
       "      <th>std</th>\n",
       "      <td>1.870829</td>\n",
       "      <td>2658.320272</td>\n",
       "      <td>5.205766</td>\n",
       "    </tr>\n",
       "    <tr>\n",
       "      <th>min</th>\n",
       "      <td>1.000000</td>\n",
       "      <td>25000.000000</td>\n",
       "      <td>27.000000</td>\n",
       "    </tr>\n",
       "    <tr>\n",
       "      <th>25%</th>\n",
       "      <td>2.250000</td>\n",
       "      <td>29000.000000</td>\n",
       "      <td>27.750000</td>\n",
       "    </tr>\n",
       "    <tr>\n",
       "      <th>50%</th>\n",
       "      <td>3.500000</td>\n",
       "      <td>30000.000000</td>\n",
       "      <td>30.500000</td>\n",
       "    </tr>\n",
       "    <tr>\n",
       "      <th>75%</th>\n",
       "      <td>4.750000</td>\n",
       "      <td>31750.000000</td>\n",
       "      <td>32.500000</td>\n",
       "    </tr>\n",
       "    <tr>\n",
       "      <th>max</th>\n",
       "      <td>6.000000</td>\n",
       "      <td>32000.000000</td>\n",
       "      <td>41.000000</td>\n",
       "    </tr>\n",
       "  </tbody>\n",
       "</table>\n",
       "</div>"
      ],
      "text/plain": [
       "       EmployeeID        Salary        Age\n",
       "count    6.000000      6.000000   6.000000\n",
       "mean     3.500000  29666.666667  31.500000\n",
       "std      1.870829   2658.320272   5.205766\n",
       "min      1.000000  25000.000000  27.000000\n",
       "25%      2.250000  29000.000000  27.750000\n",
       "50%      3.500000  30000.000000  30.500000\n",
       "75%      4.750000  31750.000000  32.500000\n",
       "max      6.000000  32000.000000  41.000000"
      ]
     },
     "execution_count": 400,
     "metadata": {},
     "output_type": "execute_result"
    }
   ],
   "source": [
    "df.describe() # summary of statatistics"
   ]
  },
  {
   "cell_type": "code",
   "execution_count": 406,
   "id": "27e75ee6-855d-437f-9ebe-63e00ec53f64",
   "metadata": {},
   "outputs": [
    {
     "name": "stdout",
     "output_type": "stream",
     "text": [
      "(6, 7)\n"
     ]
    }
   ],
   "source": [
    "print(df.shape) # no of rows and columns"
   ]
  },
  {
   "cell_type": "code",
   "execution_count": 408,
   "id": "788d6b3f-7aaa-4d8b-a57c-f894503529d6",
   "metadata": {},
   "outputs": [
    {
     "name": "stdout",
     "output_type": "stream",
     "text": [
      "0     Hasnain\n",
      "1        Ibtu\n",
      "2    Zulfikar\n",
      "3      Fatema\n",
      "4       zenab\n",
      "5      Ahmedi\n",
      "Name: Firstname, dtype: object\n"
     ]
    }
   ],
   "source": [
    "print(df['Firstname'])  # access column by name"
   ]
  },
  {
   "cell_type": "code",
   "execution_count": 414,
   "id": "9ce059ac-7b1d-468e-ae25-7f4ed30e8ba6",
   "metadata": {},
   "outputs": [
    {
     "name": "stdout",
     "output_type": "stream",
     "text": [
      "  Firstname     Lastname\n",
      "0   Hasnain  Lokhandwala\n",
      "1      Ibtu  Lokhandwala\n",
      "2  Zulfikar         Khan\n",
      "3    Fatema        shekh\n",
      "4     zenab  lokhandwala\n",
      "5    Ahmedi       Hajari\n"
     ]
    }
   ],
   "source": [
    " print(df[['Firstname','Lastname']])"
   ]
  },
  {
   "cell_type": "code",
   "execution_count": 416,
   "id": "46e764c1-cc4b-4549-bf33-21b45e09e615",
   "metadata": {},
   "outputs": [
    {
     "name": "stdout",
     "output_type": "stream",
     "text": [
      "   EmployeeID Firstname     Lastname  Salary  Jobtitle   SEX  Age\n",
      "2           3  Zulfikar         Khan   32000  Employee  Male   30\n",
      "4           5     zenab  lokhandwala   32000       CEO  Male   41\n"
     ]
    }
   ],
   "source": [
    "print(df[df['Salary'] >31000])  #  check salary moretahn 31000"
   ]
  },
  {
   "cell_type": "code",
   "execution_count": 418,
   "id": "1adc646c-1f26-48b1-aff3-7300b3a21090",
   "metadata": {},
   "outputs": [
    {
     "name": "stdout",
     "output_type": "stream",
     "text": [
      "EmployeeID    0\n",
      "Firstname     0\n",
      "Lastname      0\n",
      "Salary        0\n",
      "Jobtitle      0\n",
      "SEX           0\n",
      "Age           0\n",
      "dtype: int64\n"
     ]
    }
   ],
   "source": [
    "print(df.isnull().sum()) # checking null value"
   ]
  },
  {
   "cell_type": "code",
   "execution_count": 420,
   "id": "bb0c6812-3ca1-4cc6-970c-f2f166e5cb53",
   "metadata": {},
   "outputs": [],
   "source": [
    "#   Numpy"
   ]
  },
  {
   "cell_type": "code",
   "execution_count": 422,
   "id": "a595257c-4e64-4fd3-954f-87f690d6c74c",
   "metadata": {},
   "outputs": [],
   "source": [
    "data = df.to_numpy()"
   ]
  },
  {
   "cell_type": "code",
   "execution_count": 424,
   "id": "d12dbaca-c651-4880-a689-22122a947b1d",
   "metadata": {},
   "outputs": [
    {
     "name": "stdout",
     "output_type": "stream",
     "text": [
      "[[1 'Hasnain' 'Lokhandwala' 25000 'Manager' 'Male' 31]\n",
      " [2 'Ibtu' 'Lokhandwala' 29000 'Manager' 'Female' 27]\n",
      " [3 'Zulfikar' 'Khan' 32000 'Employee' 'Male' 30]\n",
      " [4 'Fatema' 'shekh' 29000 'Employee' 'Female' 27]\n",
      " [5 'zenab' 'lokhandwala' 32000 'CEO' 'Male' 41]\n",
      " [6 'Ahmedi' 'Hajari' 31000 'MBA' 'Male' 33]]\n"
     ]
    }
   ],
   "source": [
    "print(data)"
   ]
  },
  {
   "cell_type": "code",
   "execution_count": 426,
   "id": "78f8c706-bcbf-482b-a372-5e7fcef783c9",
   "metadata": {},
   "outputs": [],
   "source": [
    "salary = df['Salary'].to_numpy()  # for salary"
   ]
  },
  {
   "cell_type": "code",
   "execution_count": 428,
   "id": "5829493d-2ec7-4a17-ba15-fe8620364f79",
   "metadata": {},
   "outputs": [
    {
     "name": "stdout",
     "output_type": "stream",
     "text": [
      "[25000 29000 32000 29000 32000 31000]\n"
     ]
    }
   ],
   "source": [
    "print(salary)  "
   ]
  },
  {
   "cell_type": "code",
   "execution_count": 430,
   "id": "e1e2c2d4-836f-45d0-ae5d-38c6537a2c35",
   "metadata": {},
   "outputs": [],
   "source": [
    "age = df['Age'].to_numpy()"
   ]
  },
  {
   "cell_type": "code",
   "execution_count": 432,
   "id": "c42eb113-97b5-4f91-b7cd-16345dc22e48",
   "metadata": {},
   "outputs": [
    {
     "name": "stdout",
     "output_type": "stream",
     "text": [
      "[31 27 30 27 41 33]\n"
     ]
    }
   ],
   "source": [
    "print(age)"
   ]
  },
  {
   "cell_type": "code",
   "execution_count": 436,
   "id": "30dcba09-44a3-48d2-80e8-db45a48b99b2",
   "metadata": {},
   "outputs": [
    {
     "name": "stdout",
     "output_type": "stream",
     "text": [
      "New salary by 10 percent hike [27500. 31900. 35200. 31900. 35200. 34100.]\n"
     ]
    }
   ],
   "source": [
    "newsalary = salary * 1.10\n",
    "print('New salary by 10 percent hike', newsalary)"
   ]
  },
  {
   "cell_type": "code",
   "execution_count": 443,
   "id": "70a91eb8-8ccf-4bf7-af47-dedad3978ef5",
   "metadata": {},
   "outputs": [],
   "source": [
    "# increment salary 20 percent whose job title  = manager\n",
    "df['Salary'] = np.where(df['Jobtitle'] =='Manager', df['Salary'] * 1.20, df['Salary'])"
   ]
  },
  {
   "cell_type": "code",
   "execution_count": 445,
   "id": "9f1ac146-684f-4c15-97be-76435254a487",
   "metadata": {},
   "outputs": [
    {
     "name": "stdout",
     "output_type": "stream",
     "text": [
      "   EmployeeID Firstname     Lastname   Salary  Jobtitle     SEX  Age\n",
      "0           1   Hasnain  Lokhandwala  30000.0   Manager    Male   31\n",
      "1           2      Ibtu  Lokhandwala  34800.0   Manager  Female   27\n",
      "2           3  Zulfikar         Khan  32000.0  Employee    Male   30\n",
      "3           4    Fatema        shekh  29000.0  Employee  Female   27\n",
      "4           5     zenab  lokhandwala  32000.0       CEO    Male   41\n",
      "5           6    Ahmedi       Hajari  31000.0       MBA    Male   33\n"
     ]
    }
   ],
   "source": [
    "print(df)"
   ]
  },
  {
   "cell_type": "code",
   "execution_count": 455,
   "id": "07ce272f-abfe-4eab-9a71-7e4a7194b88c",
   "metadata": {},
   "outputs": [
    {
     "name": "stdout",
     "output_type": "stream",
     "text": [
      "   EmployeeID Firstname     Lastname   Salary  Jobtitle     SEX  Age  \\\n",
      "0           1   Hasnain  Lokhandwala  30000.0   Manager    Male   31   \n",
      "1           2      Ibtu  Lokhandwala  34800.0   Manager  Female   27   \n",
      "2           3  Zulfikar         Khan  32000.0  Employee    Male   30   \n",
      "3           4    Fatema        shekh  29000.0  Employee  Female   27   \n",
      "4           5     zenab  lokhandwala  32000.0       CEO    Male   41   \n",
      "5           6    Ahmedi       Hajari  31000.0       MBA    Male   33   \n",
      "\n",
      "   yearretirement  \n",
      "0              19  \n",
      "1              23  \n",
      "2              20  \n",
      "3              23  \n",
      "4               9  \n",
      "5              17  \n"
     ]
    }
   ],
   "source": [
    "# creating retirement (new column)\n",
    "retirementage = 50\n",
    "df['yearretirement'] = np.where(df['Age'] < retirementage, retirementage - df['Age'],0)\n",
    "print(df)"
   ]
  },
  {
   "cell_type": "code",
   "execution_count": 457,
   "id": "ee84715c-0cfa-4990-8536-7abf72f72618",
   "metadata": {},
   "outputs": [],
   "source": [
    "# sql"
   ]
  },
  {
   "cell_type": "code",
   "execution_count": 459,
   "id": "c33ec54b-d086-4b46-9bb2-42db994e1ec4",
   "metadata": {},
   "outputs": [
    {
     "name": "stdout",
     "output_type": "stream",
     "text": [
      "Requirement already satisfied: sqlalchemy in c:\\users\\44754\\anaconda3\\lib\\site-packages (2.0.34)\n",
      "Requirement already satisfied: typing-extensions>=4.6.0 in c:\\users\\44754\\anaconda3\\lib\\site-packages (from sqlalchemy) (4.11.0)\n",
      "Requirement already satisfied: greenlet!=0.4.17 in c:\\users\\44754\\anaconda3\\lib\\site-packages (from sqlalchemy) (3.0.1)\n",
      "Note: you may need to restart the kernel to use updated packages.\n"
     ]
    }
   ],
   "source": [
    "pip install sqlalchemy"
   ]
  },
  {
   "cell_type": "code",
   "execution_count": 463,
   "id": "05384d2e-b458-41b8-b634-d42855ceef9c",
   "metadata": {},
   "outputs": [],
   "source": [
    "import pandas as pd \n",
    "from sqlalchemy import create_engine"
   ]
  },
  {
   "cell_type": "code",
   "execution_count": 465,
   "id": "4a73ef2e-c671-4d10-9f6d-769b4dfaa551",
   "metadata": {},
   "outputs": [
    {
     "data": {
      "text/html": [
       "<div>\n",
       "<style scoped>\n",
       "    .dataframe tbody tr th:only-of-type {\n",
       "        vertical-align: middle;\n",
       "    }\n",
       "\n",
       "    .dataframe tbody tr th {\n",
       "        vertical-align: top;\n",
       "    }\n",
       "\n",
       "    .dataframe thead th {\n",
       "        text-align: right;\n",
       "    }\n",
       "</style>\n",
       "<table border=\"1\" class=\"dataframe\">\n",
       "  <thead>\n",
       "    <tr style=\"text-align: right;\">\n",
       "      <th></th>\n",
       "      <th>EmployeeID</th>\n",
       "      <th>Firstname</th>\n",
       "      <th>Lastname</th>\n",
       "      <th>Salary</th>\n",
       "      <th>Jobtitle</th>\n",
       "      <th>SEX</th>\n",
       "      <th>Age</th>\n",
       "      <th>yearretirement</th>\n",
       "    </tr>\n",
       "  </thead>\n",
       "  <tbody>\n",
       "    <tr>\n",
       "      <th>0</th>\n",
       "      <td>1</td>\n",
       "      <td>Hasnain</td>\n",
       "      <td>Lokhandwala</td>\n",
       "      <td>30000.0</td>\n",
       "      <td>Manager</td>\n",
       "      <td>Male</td>\n",
       "      <td>31</td>\n",
       "      <td>19</td>\n",
       "    </tr>\n",
       "    <tr>\n",
       "      <th>1</th>\n",
       "      <td>2</td>\n",
       "      <td>Ibtu</td>\n",
       "      <td>Lokhandwala</td>\n",
       "      <td>34800.0</td>\n",
       "      <td>Manager</td>\n",
       "      <td>Female</td>\n",
       "      <td>27</td>\n",
       "      <td>23</td>\n",
       "    </tr>\n",
       "    <tr>\n",
       "      <th>2</th>\n",
       "      <td>3</td>\n",
       "      <td>Zulfikar</td>\n",
       "      <td>Khan</td>\n",
       "      <td>32000.0</td>\n",
       "      <td>Employee</td>\n",
       "      <td>Male</td>\n",
       "      <td>30</td>\n",
       "      <td>20</td>\n",
       "    </tr>\n",
       "    <tr>\n",
       "      <th>3</th>\n",
       "      <td>4</td>\n",
       "      <td>Fatema</td>\n",
       "      <td>shekh</td>\n",
       "      <td>29000.0</td>\n",
       "      <td>Employee</td>\n",
       "      <td>Female</td>\n",
       "      <td>27</td>\n",
       "      <td>23</td>\n",
       "    </tr>\n",
       "    <tr>\n",
       "      <th>4</th>\n",
       "      <td>5</td>\n",
       "      <td>zenab</td>\n",
       "      <td>lokhandwala</td>\n",
       "      <td>32000.0</td>\n",
       "      <td>CEO</td>\n",
       "      <td>Male</td>\n",
       "      <td>41</td>\n",
       "      <td>9</td>\n",
       "    </tr>\n",
       "  </tbody>\n",
       "</table>\n",
       "</div>"
      ],
      "text/plain": [
       "   EmployeeID Firstname     Lastname   Salary  Jobtitle     SEX  Age  \\\n",
       "0           1   Hasnain  Lokhandwala  30000.0   Manager    Male   31   \n",
       "1           2      Ibtu  Lokhandwala  34800.0   Manager  Female   27   \n",
       "2           3  Zulfikar         Khan  32000.0  Employee    Male   30   \n",
       "3           4    Fatema        shekh  29000.0  Employee  Female   27   \n",
       "4           5     zenab  lokhandwala  32000.0       CEO    Male   41   \n",
       "\n",
       "   yearretirement  \n",
       "0              19  \n",
       "1              23  \n",
       "2              20  \n",
       "3              23  \n",
       "4               9  "
      ]
     },
     "execution_count": 465,
     "metadata": {},
     "output_type": "execute_result"
    }
   ],
   "source": [
    "df.head()"
   ]
  },
  {
   "cell_type": "code",
   "execution_count": 477,
   "id": "46135a96-bbfb-479b-a2ce-91c82541020b",
   "metadata": {},
   "outputs": [
    {
     "ename": "ModuleNotFoundError",
     "evalue": "No module named 'mysql'",
     "output_type": "error",
     "traceback": [
      "\u001b[1;31m---------------------------------------------------------------------------\u001b[0m",
      "\u001b[1;31mModuleNotFoundError\u001b[0m                       Traceback (most recent call last)",
      "Cell \u001b[1;32mIn[477], line 1\u001b[0m\n\u001b[1;32m----> 1\u001b[0m \u001b[38;5;28;01mimport\u001b[39;00m \u001b[38;5;21;01mmysql\u001b[39;00m\u001b[38;5;21;01m.\u001b[39;00m\u001b[38;5;21;01mconnector\u001b[39;00m\n",
      "\u001b[1;31mModuleNotFoundError\u001b[0m: No module named 'mysql'"
     ]
    }
   ],
   "source": [
    "import mysql.connector"
   ]
  },
  {
   "cell_type": "code",
   "execution_count": 479,
   "id": "c54756e0-64e5-486d-96a5-ab1c26676687",
   "metadata": {},
   "outputs": [
    {
     "name": "stdout",
     "output_type": "stream",
     "text": [
      "Collecting mysql-connector-python\n",
      "  Downloading mysql_connector_python-9.1.0-cp312-cp312-win_amd64.whl.metadata (6.2 kB)\n",
      "Downloading mysql_connector_python-9.1.0-cp312-cp312-win_amd64.whl (16.1 MB)\n",
      "   ---------------------------------------- 0.0/16.1 MB ? eta -:--:--\n",
      "   - -------------------------------------- 0.5/16.1 MB 1.9 MB/s eta 0:00:09\n",
      "   - -------------------------------------- 0.5/16.1 MB 1.9 MB/s eta 0:00:09\n",
      "   - -------------------------------------- 0.8/16.1 MB 987.4 kB/s eta 0:00:16\n",
      "   -- ------------------------------------- 1.0/16.1 MB 1.1 MB/s eta 0:00:14\n",
      "   --- ------------------------------------ 1.6/16.1 MB 1.3 MB/s eta 0:00:11\n",
      "   ---- ----------------------------------- 1.8/16.1 MB 1.3 MB/s eta 0:00:11\n",
      "   ----- ---------------------------------- 2.4/16.1 MB 1.4 MB/s eta 0:00:10\n",
      "   ------ --------------------------------- 2.6/16.1 MB 1.5 MB/s eta 0:00:10\n",
      "   ------- -------------------------------- 2.9/16.1 MB 1.5 MB/s eta 0:00:09\n",
      "   ------- -------------------------------- 3.1/16.1 MB 1.4 MB/s eta 0:00:10\n",
      "   -------- ------------------------------- 3.4/16.1 MB 1.4 MB/s eta 0:00:09\n",
      "   --------- ------------------------------ 3.9/16.1 MB 1.5 MB/s eta 0:00:09\n",
      "   ---------- ----------------------------- 4.2/16.1 MB 1.5 MB/s eta 0:00:09\n",
      "   ----------- ---------------------------- 4.5/16.1 MB 1.5 MB/s eta 0:00:08\n",
      "   ------------ --------------------------- 5.0/16.1 MB 1.5 MB/s eta 0:00:08\n",
      "   ------------- -------------------------- 5.2/16.1 MB 1.5 MB/s eta 0:00:08\n",
      "   ------------- -------------------------- 5.5/16.1 MB 1.5 MB/s eta 0:00:07\n",
      "   --------------- ------------------------ 6.0/16.1 MB 1.5 MB/s eta 0:00:07\n",
      "   --------------- ------------------------ 6.3/16.1 MB 1.5 MB/s eta 0:00:07\n",
      "   ---------------- ----------------------- 6.6/16.1 MB 1.5 MB/s eta 0:00:07\n",
      "   ----------------- ---------------------- 7.1/16.1 MB 1.5 MB/s eta 0:00:06\n",
      "   ------------------ --------------------- 7.3/16.1 MB 1.6 MB/s eta 0:00:06\n",
      "   ------------------ --------------------- 7.6/16.1 MB 1.6 MB/s eta 0:00:06\n",
      "   -------------------- ------------------- 8.1/16.1 MB 1.6 MB/s eta 0:00:06\n",
      "   -------------------- ------------------- 8.4/16.1 MB 1.6 MB/s eta 0:00:05\n",
      "   ---------------------- ----------------- 8.9/16.1 MB 1.6 MB/s eta 0:00:05\n",
      "   ---------------------- ----------------- 9.2/16.1 MB 1.6 MB/s eta 0:00:05\n",
      "   ----------------------- ---------------- 9.4/16.1 MB 1.6 MB/s eta 0:00:05\n",
      "   ------------------------ --------------- 9.7/16.1 MB 1.6 MB/s eta 0:00:05\n",
      "   ------------------------ --------------- 10.0/16.1 MB 1.6 MB/s eta 0:00:04\n",
      "   ------------------------- -------------- 10.2/16.1 MB 1.5 MB/s eta 0:00:04\n",
      "   -------------------------- ------------- 10.7/16.1 MB 1.6 MB/s eta 0:00:04\n",
      "   --------------------------- ------------ 11.0/16.1 MB 1.6 MB/s eta 0:00:04\n",
      "   ---------------------------- ----------- 11.3/16.1 MB 1.6 MB/s eta 0:00:04\n",
      "   ----------------------------- ---------- 11.8/16.1 MB 1.6 MB/s eta 0:00:03\n",
      "   ------------------------------ --------- 12.1/16.1 MB 1.6 MB/s eta 0:00:03\n",
      "   ------------------------------- -------- 12.6/16.1 MB 1.6 MB/s eta 0:00:03\n",
      "   ------------------------------- -------- 12.8/16.1 MB 1.6 MB/s eta 0:00:03\n",
      "   -------------------------------- ------- 13.1/16.1 MB 1.6 MB/s eta 0:00:02\n",
      "   --------------------------------- ------ 13.6/16.1 MB 1.6 MB/s eta 0:00:02\n",
      "   ---------------------------------- ----- 13.9/16.1 MB 1.6 MB/s eta 0:00:02\n",
      "   ----------------------------------- ---- 14.4/16.1 MB 1.6 MB/s eta 0:00:02\n",
      "   ------------------------------------ --- 14.7/16.1 MB 1.6 MB/s eta 0:00:01\n",
      "   ------------------------------------- -- 14.9/16.1 MB 1.6 MB/s eta 0:00:01\n",
      "   -------------------------------------- - 15.5/16.1 MB 1.6 MB/s eta 0:00:01\n",
      "   ---------------------------------------  15.7/16.1 MB 1.6 MB/s eta 0:00:01\n",
      "   ---------------------------------------- 16.1/16.1 MB 1.6 MB/s eta 0:00:00\n",
      "Installing collected packages: mysql-connector-python\n",
      "Successfully installed mysql-connector-python-9.1.0\n",
      "Note: you may need to restart the kernel to use updated packages.\n"
     ]
    }
   ],
   "source": [
    "pip install mysql-connector-python"
   ]
  },
  {
   "cell_type": "code",
   "execution_count": 481,
   "id": "cf0ea1aa-1c65-485a-95ba-2eea4686b844",
   "metadata": {},
   "outputs": [],
   "source": [
    "import mysql.connector"
   ]
  },
  {
   "cell_type": "code",
   "execution_count": 483,
   "id": "a85510e7-ead7-4342-8f2e-9a5f5a4ad05a",
   "metadata": {},
   "outputs": [],
   "source": [
    "dbconnection = mysql.connector.connect( host = 'localhost', user = 'root', password = 'root', database = 'challenge1')"
   ]
  },
  {
   "cell_type": "code",
   "execution_count": 485,
   "id": "59d41380-6916-4c9b-8a14-02ec4b8adf36",
   "metadata": {},
   "outputs": [],
   "source": [
    "cursor = dbconnection.cursor()"
   ]
  },
  {
   "cell_type": "code",
   "execution_count": 493,
   "id": "8b0d7ae5-d656-4e5e-9bc3-0232600be979",
   "metadata": {},
   "outputs": [],
   "source": [
    "query = 'select * from employee1'\n",
    "cursor.execute(query)"
   ]
  },
  {
   "cell_type": "code",
   "execution_count": 495,
   "id": "ae66a6a8-309b-4086-ac3d-321a39768590",
   "metadata": {},
   "outputs": [],
   "source": [
    "rows = cursor.fetchall()"
   ]
  },
  {
   "cell_type": "code",
   "execution_count": 499,
   "id": "60ed9d16-46ba-4726-bee5-41b707088305",
   "metadata": {},
   "outputs": [
    {
     "name": "stdout",
     "output_type": "stream",
     "text": [
      "[(1, 'Hasnain', 'Lokhandwala', 25000, 'Manager', 'Male', 31), (2, 'Ibtu', 'Lokhandwala', 29000, 'Manager', 'Female', 27), (3, 'Zulfikar', 'Khan', 32000, 'Employee', 'Male', 30), (4, 'Fatema', 'shekh', 29000, 'Employee', 'Female', 27), (5, 'zenab', 'lokhandwala', 32000, 'CEO', 'Male', 41)]\n"
     ]
    }
   ],
   "source": [
    "print(rows)"
   ]
  },
  {
   "cell_type": "code",
   "execution_count": null,
   "id": "15de2a98-38fa-4236-af37-00783e7711df",
   "metadata": {},
   "outputs": [],
   "source": []
  },
  {
   "cell_type": "code",
   "execution_count": null,
   "id": "d4ceceb1-a172-40bb-8e36-e8aea548b58f",
   "metadata": {},
   "outputs": [],
   "source": []
  }
 ],
 "metadata": {
  "kernelspec": {
   "display_name": "Python 3",
   "language": "python",
   "name": "python3"
  },
  "language_info": {
   "codemirror_mode": {
    "name": "ipython",
    "version": 3
   },
   "file_extension": ".py",
   "mimetype": "text/x-python",
   "name": "python",
   "nbconvert_exporter": "python",
   "pygments_lexer": "ipython3",
   "version": "3.13.0"
  }
 },
 "nbformat": 4,
 "nbformat_minor": 5
}
